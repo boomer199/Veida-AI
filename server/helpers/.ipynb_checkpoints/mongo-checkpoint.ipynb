{
 "cells": [
  {
   "cell_type": "code",
   "execution_count": 5,
   "metadata": {},
   "outputs": [
    {
     "data": {
      "text/plain": [
       "True"
      ]
     },
     "execution_count": 5,
     "metadata": {},
     "output_type": "execute_result"
    }
   ],
   "source": [
    "import json\n",
    "import csv\n",
    "import yaml\n",
    "import datetime\n",
    "from pymongo import MongoClient\n",
    "import os\n",
    "from dotenv import load_dotenv\n",
    "\n",
    "\n",
    "import urllib.parse\n",
    "load_dotenv()\n",
    "\n"
   ]
  },
  {
   "cell_type": "code",
   "execution_count": 6,
   "metadata": {},
   "outputs": [
    {
     "name": "stdout",
     "output_type": "stream",
     "text": [
      "test first concept\n"
     ]
    }
   ],
   "source": [
    "def decode_url_like_string(url_like_string):\n",
    "    decoded = urllib.parse.unquote(url_like_string)\n",
    "    return decoded\n",
    "\n",
    "x = 'test%20first%20concept'\n",
    "\n",
    "print(decode_url_like_string(x))\n",
    "\n"
   ]
  },
  {
   "cell_type": "code",
   "execution_count": 26,
   "metadata": {},
   "outputs": [],
   "source": [
    "mongo_uri = os.getenv('MONGO_URI')\n",
    "client = MongoClient(mongo_uri)\n",
    "db = client['VeidaAI']\n",
    "courses_collection = db['courses_test_2']\n"
   ]
  },
  {
   "cell_type": "code",
   "execution_count": 28,
   "metadata": {},
   "outputs": [],
   "source": [
    "def get_course_concepts(clerk_id, course_name):\n",
    "\n",
    "    concepts = courses_collection.find_one({\"clerk_id\": clerk_id, \"courses.course_name\": course_name})\n",
    "    if concepts and 'courses' in concepts:\n",
    "        for course in concepts['courses']:\n",
    "            if course['course_name'] == course_name:\n",
    "                return course['concepts']\n",
    "    return []"
   ]
  },
  {
   "cell_type": "code",
   "execution_count": 29,
   "metadata": {},
   "outputs": [
    {
     "name": "stdout",
     "output_type": "stream",
     "text": [
      "[{'concept_name': 'Math First Concept', 'concept_description': 'This is a math course with proofs. ', 'flashcards': [{'back': 'A triangular number, denoted as \\\\( T_n \\\\), is defined by the formula \\\\( T_n = \\\\frac{n(n+1)}{2} \\\\), where \\\\( n \\\\) is a positive integer.', 'front': 'What is a triangular number?', 'review_dates': ['2024-08-24', '2024-08-27', '2024-09-01', '2024-09-06', '2024-09-15', '2024-09-23', '2024-10-03'], 'times_seen': 0}, {'back': 'The sequence of triangular numbers starts with \\\\( T_1 = 1, T_2 = 3, T_3 = 6, T_4 = 10 \\\\), and so forth.', 'front': 'How does the sequence of triangular numbers start?', 'review_dates': ['2024-08-24', '2024-08-27', '2024-09-01', '2024-09-06', '2024-09-15', '2024-09-23', '2024-10-03'], 'times_seen': 0}, {'back': 'The sum of two consecutive triangular numbers \\\\( T_n \\\\) and \\\\( T_{n+1} \\\\) is a perfect square.', 'front': 'What is a key property of triangular numbers?', 'review_dates': ['2024-08-24', '2024-08-27', '2024-09-01', '2024-09-06', '2024-09-15', '2024-09-23', '2024-10-03'], 'times_seen': 0}, {'back': 'The formula is \\\\( T_n + T_{n+1} = (n + 1)^2 \\\\).', 'front': 'What is the formula for the sum of two consecutive triangular numbers?', 'review_dates': ['2024-08-24', '2024-08-27', '2024-09-01', '2024-09-06', '2024-09-15', '2024-09-23', '2024-10-03'], 'times_seen': 0}, {'back': '\\\\( T_n = \\\\frac{n(n + 1)}{2} \\\\).', 'front': 'What is the formula for \\\\( T_n \\\\)?', 'review_dates': ['2024-08-24', '2024-08-27', '2024-09-01', '2024-09-06', '2024-09-15', '2024-09-23', '2024-10-03'], 'times_seen': 0}, {'back': '\\\\( T_{n+1} = \\\\frac{(n + 1)(n + 2)}{2} \\\\).', 'front': 'What is the formula for \\\\( T_{n+1} \\\\)?', 'review_dates': ['2024-08-24', '2024-08-27', '2024-09-01', '2024-09-06', '2024-09-15', '2024-09-23', '2024-10-03'], 'times_seen': 0}, {'back': 'By simplifying \\\\( T_n + T_{n+1} = \\\\frac{n(n + 1)}{2} + \\\\frac{(n + 1)(n + 2)}{2} \\\\) to arrive at \\\\( (n + 1)^2 \\\\).', 'front': 'How do you prove \\\\( T_n + T_{n+1} = (n + 1)^2 \\\\) algebraically?', 'review_dates': ['2024-08-24', '2024-08-27', '2024-09-01', '2024-09-06', '2024-09-15', '2024-09-23', '2024-10-03'], 'times_seen': 0}, {'back': 'Triangular numbers can be represented as triangular dots.', 'front': 'How can triangular numbers be represented visually?', 'review_dates': ['2024-08-24', '2024-08-27', '2024-09-01', '2024-09-06', '2024-09-15', '2024-09-23', '2024-10-03'], 'times_seen': 0}, {'back': '\\\\( T_3 \\\\) is represented as:\\n```\\n•\\n••\\n• • •\\n```\\nand \\\\( T_4 \\\\) as:\\n```\\n•\\n••\\n• • •\\n• • ••\\n```', 'front': 'How can we visualize \\\\( T_3 \\\\) and \\\\( T_4 \\\\)?', 'review_dates': ['2024-08-24', '2024-08-27', '2024-09-01', '2024-09-06', '2024-09-15', '2024-09-23', '2024-10-03'], 'times_seen': 0}, {'back': 'The arrangement forms a square, demonstrating \\\\( T_3 + T_4 = 4^2 = 16 \\\\).', 'front': 'What occurs when combining \\\\( T_3 \\\\) and \\\\( T_4 \\\\)?', 'review_dates': ['2024-08-24', '2024-08-27', '2024-09-01', '2024-09-06', '2024-09-15', '2024-09-23', '2024-10-03'], 'times_seen': 0}, {'back': 'The total number of gifts is \\\\( \\\\text{Total} = T_1 + T_2 + \\\\cdots + T_{12} \\\\).', 'front': 'How is the total number of gifts on the 12 days calculated?', 'review_dates': ['2024-08-24', '2024-08-27', '2024-09-01', '2024-09-06', '2024-09-15', '2024-09-23', '2024-10-03'], 'times_seen': 0}, {'back': 'By pairing triangular numbers: \\\\( (T_1 + T_2) + (T_3 + T_4) + \\\\ldots + (T_{11} + T_{12}) \\\\).', 'front': 'How do you calculate the total gifts given on the 12 days of Christmas?', 'review_dates': ['2024-08-24', '2024-08-27', '2024-09-01', '2024-09-06', '2024-09-15', '2024-09-23', '2024-10-03'], 'times_seen': 0}, {'back': 'Each pair sums to different perfect squares: \\\\( 2^2 + 4^2 + 6^2 + 8^2 + 10^2 + 12^2 \\\\).', 'front': 'What do the pairs of triangular numbers sum to?', 'review_dates': ['2024-08-24', '2024-08-27', '2024-09-01', '2024-09-06', '2024-09-15', '2024-09-23', '2024-10-03'], 'times_seen': 0}, {'back': 'The result is \\\\( 4 + 16 + 36 + 64 + 100 + 144 = 364 \\\\).', 'front': 'What is the result of calculating \\\\( 2^2 + 4^2 + 6^2 + 8^2 + 10^2 + 12^2 \\\\)?', 'review_dates': ['2024-08-24', '2024-08-27', '2024-09-01', '2024-09-06', '2024-09-15', '2024-09-23', '2024-10-03'], 'times_seen': 0}, {'back': '\\\\( C_n = T_1 + T_2 + \\\\cdots + T_{2n} \\\\).', 'front': 'What is the formula to compute the gifts given in the first \\\\( 2n \\\\) days of Christmas?', 'review_dates': ['2024-08-24', '2024-08-27', '2024-09-01', '2024-09-06', '2024-09-15', '2024-09-23', '2024-10-03'], 'times_seen': 0}, {'back': 'By pairing and using the formula \\\\( 2^2 + 4^2 + \\\\cdots + (2n)^2 = 4(1^2 + 2^2 + \\\\cdots + n^2) \\\\).', 'front': 'How do you derive the formula for gifts given in \\\\( 2n \\\\) days?', 'review_dates': ['2024-08-24', '2024-08-27', '2024-09-01', '2024-09-06', '2024-09-15', '2024-09-23', '2024-10-03'], 'times_seen': 0}, {'back': 'The formula is \\\\( C_n = 4 \\\\sum_{k=1}^{n} k^2 = \\\\frac{4n(n + 1)(2n + 1)}{6} \\\\).', 'front': 'What is the sum of squares formula used in pairing triangular numbers?', 'review_dates': ['2024-08-24', '2024-08-27', '2024-09-01', '2024-09-06', '2024-09-15', '2024-09-23', '2024-10-03'], 'times_seen': 0}, {'back': 'By calculating \\\\( C_6 = 4 \\\\cdot 6 \\\\cdot (6 + 1) \\\\cdot (2 \\\\cdot 6 + 1) \\\\div 6 = 364 \\\\).', 'front': 'How do you confirm the formula for \\\\( n = 6 \\\\) (12 Days)?', 'review_dates': ['2024-08-24', '2024-08-27', '2024-09-01', '2024-09-06', '2024-09-15', '2024-09-23', '2024-10-03'], 'times_seen': 0}, {'back': 'It confirms that the result \\\\( C_6 = 364 \\\\) matches earlier calculations of total gifts.', 'front': 'How does the confirmation for \\\\( n = 6 \\\\) relate to former calculations?', 'review_dates': ['2024-08-24', '2024-08-27', '2024-09-01', '2024-09-06', '2024-09-15', '2024-09-23', '2024-10-03'], 'times_seen': 0}], 'review_dates': ['2024-08-24', '2024-08-27', '2024-09-01', '2024-09-06', '2024-09-15', '2024-09-23', '2024-10-03'], 'multiple_choice_questions': [{'concept': 'Triangular Numbers', 'correct_answer': 'It highlights a pattern where the sum of two consecutive triangular numbers equals a square.', 'possible_answers': ['The formula defines individual triangular numbers.', 'It shows that triangular numbers increase with each subsequent number.', 'It highlights a pattern where the sum of two consecutive triangular numbers equals a square.', 'It illustrates that triangular numbers can be represented geometrically.'], 'question': 'How does the formula for triangular numbers connect with the concept of consecutive triangular numbers summing to a square?', 'question_type': 'Synthesis', 'why': 'This answer is correct because the formula for triangular numbers directly leads to the relationship that the sum of two consecutive triangular numbers, $T_n + T_{n+1}$, resolves to $(n + 1)^2$, indicating a clear connection to squares. The other options, while true in context, do not directly address the synthesis of the triangular number formula and squares.', 'correct_answer_index': 2}, {'concept': 'Triangular Numbers', 'correct_answer': \"Present the triangular numbers' formula, calculate the sum, demonstrate simplification to a square.\", 'possible_answers': [\"Present the triangular numbers' formula, calculate the sum, demonstrate simplification to a square.\", 'List all triangular numbers and their properties, then show examples.', 'Show fundamental properties of triangles and apply geometric proofs.', 'Provide numerical examples without derivations or formulas.'], 'question': 'Which of the following best organizes the proof that the sum of consecutive triangular numbers equals a perfect square?', 'question_type': 'Reorganization', 'why': 'This is the correct answer as it effectively organizes proof in a structured manner—starting from the definition of triangular numbers, then performing algebraic summation and finally simplifying it to demonstrate that it equals a perfect square. The other options lack systematic organization or essential derivational steps.', 'correct_answer_index': 0}, {'concept': '12 Days of Christmas', 'correct_answer': 'When pairing triangular numbers to derive a total over multiple days.', 'possible_answers': ['In calculating the gifts received on each day as a direct count.', 'When pairing triangular numbers to derive a total over multiple days.', 'In exploring geometric representations of gifts.', 'When determining the average number of gifts per day.'], 'question': 'In which context does the sum of gifts given in the 12 Days of Christmas best illustrate the concept of triangular numbers?', 'question_type': 'Context', 'why': 'This answer is correct because pairing triangular numbers provides a direct context to calculate the total gifts distributed over the 12 days while demonstrating the connection with triangular numbers. The other options may relate to gifts but do not leverage the mathematical properties of triangular numbers as effectively.', 'correct_answer_index': 1}, {'concept': 'Triangular Numbers', 'correct_answer': 'Triangular numbers can be expressed as $T_n = \\\\frac{n(n+1)}{2}$ while square numbers are derived from $n^2$, showing different foundational formulas.', 'possible_answers': ['Triangular numbers can only represent odd sums; square numbers can represent all integers.', 'The sum of two triangular numbers always results in a triangular number; the sum of two squares does not follow a specific pattern.', 'Triangular numbers increase in a non-linear fashion, while square numbers follow a linear increment.', 'Triangular numbers can be expressed as $T_n = \\\\frac{n(n+1)}{2}$ while square numbers are derived from $n^2$, showing different foundational formulas.'], 'question': 'How do the properties of triangular numbers compare with the properties of square numbers?', 'question_type': 'Comparison', 'why': 'This option correctly compares the foundational definitions of triangular and square numbers, showcasing their distinct mathematical expressions. The other options inaccurately describe properties or fail to establish a meaningful comparison.', 'correct_answer_index': 3}, {'concept': '12 Days of Christmas', 'correct_answer': 'Use the formula for triangular numbers to calculate gifts for each day first and then sum these.', 'possible_answers': ['Sum up all gifts each day without using triangular properties.', 'Use the formula for triangular numbers to calculate gifts for each day first and then sum these.', 'Derive a separate formula for each type of gift received.', 'Employ the principle of arithmetic series to find a general formula.'], 'question': 'How would you calculate the total number of gifts given over the 12 days of Christmas using triangular numbers?', 'question_type': 'Application', 'why': \"This answer is correct because it demonstrates the direct application of the triangular number formula to determine the total gifts given, thus showcasing the use of mathematical properties. The other options either ignore the triangular number concept or don't correctly apply it to the context.\", 'correct_answer_index': 1}, {'concept': 'Triangular Numbers', 'correct_answer': 'It shows a direct relationship where combining triangular dots forms a perfect square, validating the algebraic proof.', 'possible_answers': ['The visual representation clarifies how to calculate any triangular number easily.', 'It indicates that geometric shapes can only represent triangular numbers, not squares.', 'It shows a direct relationship where combining triangular dots forms a perfect square, validating the algebraic proof.', 'Geometric shapes only serve as illustrative tools without any mathematical significance.'], 'question': 'What conclusion can be drawn from the geometric representation of triangular numbers and their summation leading to squares?', 'question_type': 'Synthesis', 'why': 'This answer is correct as it connects the geometric interpretation with the algebraic result, demonstrating the validity of the properties of triangular numbers. The other options misinterpret the relationship or downplay the significance of geometric representations in mathematics.', 'correct_answer_index': 2}, {'concept': '12 Days of Christmas', 'correct_answer': 'Organize the gifts into pairs and group them as they relate to the properties of triangular numbers.', 'possible_answers': ['List all individual gifts per day and add them up directly.', 'Organize the gifts into pairs and group them as they relate to the properties of triangular numbers.', \"Calculate the gifts on individual days and compare them with next days' gifts.\", 'Index gifts chronologically without pairing or grouping.'], 'question': 'Which of the following sequences best organizes the calculation of gifts over the 12 days based on triangular numbers?', 'question_type': 'Reorganization', 'why': 'The correct answer organizes the calculation clearly by leveraging the relationships between triangular numbers, demonstrating how they contribute to the sum in a systematic manner. The other options lack structure and do not utilize the mathematical relationships effectively.', 'correct_answer_index': 1}], 'notes': '# Lecture Notes on Triangular Numbers and the 12 Days of Christmas Problem\\n\\n## 1. Triangular Numbers\\n\\n### Definition:\\nA triangular number, denoted as \\\\( T_n \\\\), is defined by the formula:\\n\\\\[\\nT_n = \\\\frac{n(n+1)}{2}\\n\\\\]\\nwhere \\\\( n \\\\) is a positive integer. The sequence of triangular numbers starts with \\\\( T_1 = 1, T_2 = 3, T_3 = 6, T_4 = 10, \\\\) and so forth.\\n\\n### Properties of Triangular Numbers:\\n- The sum of two consecutive triangular numbers \\\\( T_n \\\\) and \\\\( T_{n+1} \\\\) is a perfect square.\\n\\n## 2. Proof that \\\\( T_n + T_{n+1} = (n + 1)^2 \\\\)\\n\\n### 2.1 Algebraic Proof\\n\\n1. **Formula for Triangular Numbers:**\\n   \\\\[\\n   T_n = \\\\frac{n(n + 1)}{2}\\n   \\\\]\\n   \\\\[\\n   T_{n+1} = \\\\frac{(n + 1)(n + 2)}{2}\\n   \\\\]\\n\\n2. **Sum of Consecutive Triangular Numbers:**\\n   \\\\[\\n   T_n + T_{n+1} = \\\\frac{n(n + 1)}{2} + \\\\frac{(n + 1)(n + 2)}{2}\\n   \\\\]\\n   Factoring out \\\\(\\\\frac{1}{2}\\\\):\\n   \\\\[\\n   T_n + T_{n+1} = \\\\frac{1}{2} [n(n + 1) + (n + 1)(n + 2)]\\n   \\\\]\\n   \\\\[\\n   T_n + T_{n+1} = \\\\frac{1}{2} [(n + 1)(n + n + 2)]\\n   \\\\]\\n   Simplifying:\\n   \\\\[\\n   T_n + T_{n+1} = \\\\frac{1}{2} [2(n + 1)(n + 1)]\\n   \\\\]\\n   \\\\[\\n   T_n + T_{n+1} = (n + 1)^2\\n   \\\\]\\n   Thus, the sum of \\\\( T_n \\\\) and \\\\( T_{n+1} \\\\) is \\\\( (n + 1)^2 \\\\), confirming it is a perfect square.\\n\\n### 2.2 Geometric Proof\\n\\n- **Visualization:**\\n  Triangular numbers can be represented as triangular dots. For instance:\\n  - \\\\( T_3 \\\\):\\n    ```\\n    •\\n    ••\\n    • • •\\n    ```\\n  - \\\\( T_4 \\\\):\\n    ```\\n    •\\n    ••\\n    • • •\\n    • • ••\\n    ```\\n\\n- **Combining Dots:**\\n  By combining triangular numbers \\\\( T_3 \\\\) and \\\\( T_4 \\\\), the arrangement can form a square:\\n  ```\\n  • • ••\\n  • • ••\\n  • • ••\\n  • • ••\\n  ```\\n  Thus, this configuration demonstrates that \\\\( T_3 + T_4 = 4^2 = 16 \\\\), which extends to any \\\\( n \\\\).\\n\\n## 3. Gifts Given During the 12 Days of Christmas\\n\\n### Total Gifts Calculation:\\nThe total number of gifts given on the 12 days is obtained by summing the first 12 triangular numbers:\\n\\\\[\\n\\\\text{Total} = T_1 + T_2 + \\\\cdots + T_{12}\\n\\\\]\\n\\n### Pairing Terms:\\nWe can pair the triangular numbers:\\n\\\\[\\n(T_1 + T_2) + (T_3 + T_4) + \\\\ldots + (T_{11} + T_{12})\\n\\\\]\\nEach pair sums to different perfect squares:\\n\\\\[\\n2^2 + 4^2 + 6^2 + 8^2 + 10^2 + 12^2\\n\\\\]\\nCalculating these gives:\\n\\\\[\\n4 + 16 + 36 + 64 + 100 + 144 = 364\\n\\\\]\\nThus, the total number of gifts given over the 12 days of Christmas is 364.\\n\\n## 4. Deriving the Formula for the First \\\\( 2n \\\\) Days of Christmas\\n\\n### Total Gifts for \\\\( 2n \\\\) Days:\\nTo compute the gifts given in the first \\\\( 2n \\\\) days:\\n\\\\[\\nC_n = T_1 + T_2 + \\\\cdots + T_{2n}\\n\\\\]\\n\\n### Pairing and Formula Derivation:\\nWe pair the triangular numbers:\\n\\\\[\\n(T_1 + T_2) + (T_3 + T_4) + \\\\cdots + (T_{2n-1} + T_{2n})\\n\\\\]\\nEach pair contributes a perfect square:\\n\\\\[\\n2^2 + 4^2 + \\\\cdots + (2n)^2 = 4(1^2 + 2^2 + \\\\cdots + n^2)\\n\\\\]\\n\\n### Sum of Squares Formula:\\nThis leads to the formula:\\n\\\\[\\nC_n = 4 \\\\sum_{k=1}^{n} k^2 = \\\\frac{4n(n + 1)(2n + 1)}{6}\\n\\\\]\\n\\n### Confirmation for \\\\( n = 6 \\\\) (12 Days):\\n\\\\[\\nC_6 = 4 \\\\cdot 6 \\\\cdot (6 + 1) \\\\cdot (2 \\\\cdot 6 + 1) \\\\div 6\\n= \\\\frac{4 \\\\cdot 6 \\\\cdot 7 \\\\cdot 13}{6} = 4 \\\\cdot 7 \\\\cdot 13 = 364\\n\\\\]\\nThis result matches our earlier calculation and confirms the validity of the formula.'}]\n"
     ]
    }
   ],
   "source": [
    "course_name = \"Math\"\n",
    "clerk_id = \"user_2kyjp9WrvRfAeJFuVslhHOUoLkX\"\n",
    "\n",
    "concepts = get_course_concepts(clerk_id, course_name)\n",
    "print(concepts)"
   ]
  },
  {
   "cell_type": "code",
   "execution_count": 24,
   "metadata": {},
   "outputs": [
    {
     "name": "stdout",
     "output_type": "stream",
     "text": [
      "['2024-08-22', '2024-08-23', '2024-08-26', '2024-08-28', '2024-09-02', '2024-09-06', '2024-09-11']\n",
      "['2024-08-22', '2024-08-23', '2024-08-26', '2024-08-28', '2024-09-02', '2024-09-06', '2024-09-11']\n",
      "['2024-08-22', '2024-08-23', '2024-08-26', '2024-08-28', '2024-09-02', '2024-09-06', '2024-09-11']\n",
      "['2024-08-22', '2024-08-23', '2024-08-26', '2024-08-28', '2024-09-02', '2024-09-06', '2024-09-11']\n",
      "['2024-08-22', '2024-08-23', '2024-08-26', '2024-08-28', '2024-09-02', '2024-09-06', '2024-09-11']\n",
      "['2024-08-22', '2024-08-23', '2024-08-26', '2024-08-28', '2024-09-02', '2024-09-06', '2024-09-11']\n",
      "['2024-08-22', '2024-08-23', '2024-08-26', '2024-08-28', '2024-09-02', '2024-09-06', '2024-09-11']\n",
      "['2024-08-22', '2024-08-23', '2024-08-26', '2024-08-28', '2024-09-02', '2024-09-06', '2024-09-11']\n",
      "['2024-08-22', '2024-08-23', '2024-08-26', '2024-08-28', '2024-09-02', '2024-09-06', '2024-09-11']\n",
      "['2024-08-22', '2024-08-23', '2024-08-26', '2024-08-28', '2024-09-02', '2024-09-06', '2024-09-11']\n",
      "['2024-08-22', '2024-08-23', '2024-08-26', '2024-08-28', '2024-09-02', '2024-09-06', '2024-09-11']\n",
      "['2024-08-22', '2024-08-23', '2024-08-26', '2024-08-28', '2024-09-02', '2024-09-06', '2024-09-11']\n",
      "['2024-08-22', '2024-08-23', '2024-08-26', '2024-08-28', '2024-09-02', '2024-09-06', '2024-09-11']\n",
      "['2024-08-22', '2024-08-23', '2024-08-26', '2024-08-28', '2024-09-02', '2024-09-06', '2024-09-11']\n",
      "['2024-08-22', '2024-08-23', '2024-08-26', '2024-08-28', '2024-09-02', '2024-09-06', '2024-09-11']\n",
      "['2024-08-22', '2024-08-23', '2024-08-26', '2024-08-28', '2024-09-02', '2024-09-06', '2024-09-11']\n"
     ]
    }
   ],
   "source": [
    "today = (datetime.datetime.now().date()).strftime(\"%Y-%m-%d\") \n",
    "user = courses_collection.find_one({\"clerk_id\":clerk_id})\n",
    "\n",
    "due_flashcards = []\n",
    "for course in user['courses']:\n",
    "   \n",
    "    for flashcard in course['flashcards']:\n",
    "        if today in flashcard['review_dates']:\n",
    "            due_flashcards.append(flashcard)"
   ]
  },
  {
   "cell_type": "code",
   "execution_count": 25,
   "metadata": {},
   "outputs": [
    {
     "name": "stdout",
     "output_type": "stream",
     "text": [
      "[{'back': 'A sufficient statistic T = r(X) is a summary of the data that captures all the information needed to estimate a population parameter θ without requiring the actual data values X themselves.', 'front': 'What is a sufficient statistic?', 'review_dates': ['2024-08-22', '2024-08-23', '2024-08-26', '2024-08-28', '2024-09-02', '2024-09-06', '2024-09-11'], 'times_seen': 0}, {'back': 'When the true value of a population parameter is known, the joint distribution of the data depends solely on the sufficient statistic, indicating its efficacy as an estimator for the parameter.', 'front': 'How does the joint distribution of data relate to sufficient statistics?', 'review_dates': ['2024-08-22', '2024-08-23', '2024-08-26', '2024-08-28', '2024-09-02', '2024-09-06', '2024-09-11'], 'times_seen': 0}, {'back': 'In a normal distribution where \\\\( X \\\\sim N(\\\\mu, \\\\sigma^2) \\\\) with unknown \\\\( \\\\mu \\\\), the sample sum \\\\( S = \\\\sum_{i=1}^n X_i \\\\) is sufficient for \\\\( \\\\mu \\\\).', 'front': 'What is an example of a sufficient statistic in a normal distribution?', 'review_dates': ['2024-08-22', '2024-08-23', '2024-08-26', '2024-08-28', '2024-09-02', '2024-09-06', '2024-09-11'], 'times_seen': 0}, {'back': 'Knowing T provides all necessary information about θ from the data X, implying that \\\\( P(X | T) \\\\) is independent of θ.', 'front': 'If T(X) is sufficient for θ, what implication does it have about the data X?', 'review_dates': ['2024-08-22', '2024-08-23', '2024-08-26', '2024-08-28', '2024-09-02', '2024-09-06', '2024-09-11'], 'times_seen': 0}, {'back': 'Yes, in cases with multiple parameters, a statistic may be sufficient for one parameter but not for another.', 'front': 'Can a statistic be sufficient for one parameter and not for another?', 'review_dates': ['2024-08-22', '2024-08-23', '2024-08-26', '2024-08-28', '2024-09-02', '2024-09-06', '2024-09-11'], 'times_seen': 0}, {'back': 'The distribution must satisfy \\\\( f(x | t = r(x)) = \\\\frac{f(x)}{g(t)} \\\\), which does not depend on θ.', 'front': 'What condition must a statistic T = r(X) satisfy to be sufficient?', 'review_dates': ['2024-08-22', '2024-08-23', '2024-08-26', '2024-08-28', '2024-09-02', '2024-09-06', '2024-09-11'], 'times_seen': 0}, {'back': 'A statistic \\\\( T = r(X) \\\\) is sufficient for \\\\( \\\\theta \\\\) if the conditional distribution of the data given T does not depend on the parameter.', 'front': 'What is the formal definition of sufficiency?', 'review_dates': ['2024-08-22', '2024-08-23', '2024-08-26', '2024-08-28', '2024-09-02', '2024-09-06', '2024-09-11'], 'times_seen': 0}, {'back': 'A statistic \\\\( T = r(X) \\\\) is sufficient for θ if the likelihood function can be factored as \\\\( L(\\\\theta | x) = u(x) \\\\times v(r(x), \\\\theta) \\\\), where \\\\( u \\\\) does not depend on θ.', 'front': 'What does the likelihood factorization criterion state?', 'review_dates': ['2024-08-22', '2024-08-23', '2024-08-26', '2024-08-28', '2024-09-02', '2024-09-06', '2024-09-11'], 'times_seen': 0}, {'back': 'A sufficient statistic T leads to a posterior distribution that depends only on T.', 'front': 'What does the corollary of Bayesian sufficiency indicate?', 'review_dates': ['2024-08-22', '2024-08-23', '2024-08-26', '2024-08-28', '2024-09-02', '2024-09-06', '2024-09-11'], 'times_seen': 0}, {'back': '1. Find the likelihood function of the data. 2. Factorize the likelihood function into \\\\( u(x) \\\\times v(r(x), \\\\theta) \\\\). 3. Identify the function that depends only on \\\\( r(x) \\\\) as the sufficient statistic.', 'front': 'What are the steps to find a sufficient statistic?', 'review_dates': ['2024-08-22', '2024-08-23', '2024-08-26', '2024-08-28', '2024-09-02', '2024-09-06', '2024-09-11'], 'times_seen': 0}, {'back': 'For \\\\( X \\\\sim \\\\text{Poisson}(\\\\theta) \\\\), \\\\( T = \\\\sum X_i \\\\) is a sufficient statistic.', 'front': 'Provide an example of a sufficient statistic for Poisson distribution.', 'review_dates': ['2024-08-22', '2024-08-23', '2024-08-26', '2024-08-28', '2024-09-02', '2024-09-06', '2024-09-11'], 'times_seen': 0}, {'back': 'For \\\\( X \\\\sim U[0, \\\\theta] \\\\), the sufficient statistic is \\\\( T = \\\\max{X} \\\\).', 'front': 'What is the sufficient statistic for uniform distribution?', 'review_dates': ['2024-08-22', '2024-08-23', '2024-08-26', '2024-08-28', '2024-09-02', '2024-09-06', '2024-09-11'], 'times_seen': 0}, {'back': 'A minimal sufficient statistic T is one that is sufficient and a function of every other sufficient statistic, providing maximum information with the least data.', 'front': 'What is a minimal sufficient statistic?', 'review_dates': ['2024-08-22', '2024-08-23', '2024-08-26', '2024-08-28', '2024-09-02', '2024-09-06', '2024-09-11'], 'times_seen': 0}, {'back': 'If \\\\( T = r(X) \\\\) is a sufficient statistic and \\\\( \\\\delta(X) \\\\) is an estimator of \\\\( h(\\\\theta) \\\\), then the Rao-Blackwell estimator \\\\( \\\\delta_0(T) = E(\\\\delta(X) | T) \\\\) has a lower or equal MSE.', 'front': 'What does the Rao-Blackwell theorem state?', 'review_dates': ['2024-08-22', '2024-08-23', '2024-08-26', '2024-08-28', '2024-09-02', '2024-09-06', '2024-09-11'], 'times_seen': 0}, {'back': 'MSE is defined as \\\\( E[(\\\\delta(X) - h(\\\\theta))^2] \\\\).', 'front': 'How is Mean Squared Error (MSE) defined in the context of estimator performance?', 'review_dates': ['2024-08-22', '2024-08-23', '2024-08-26', '2024-08-28', '2024-09-02', '2024-09-06', '2024-09-11'], 'times_seen': 0}, {'back': 'An estimator is deemed inadmissible if another estimator uniformly performs better.', 'front': 'What is an inadmissible estimator?', 'review_dates': ['2024-08-22', '2024-08-23', '2024-08-26', '2024-08-28', '2024-09-02', '2024-09-06', '2024-09-11'], 'times_seen': 0}]\n",
      "2024-08-28\n"
     ]
    }
   ],
   "source": [
    "print(due_flashcards)\n",
    "\n"
   ]
  },
  {
   "cell_type": "code",
   "execution_count": 40,
   "metadata": {},
   "outputs": [],
   "source": [
    "def reformat_courses_collection_user(clerk_id,mc_index_name):\n",
    "    mongo_uri = os.getenv('MONGO_URI')\n",
    "    client = MongoClient(mongo_uri)\n",
    "    db = client['VeidaAI']\n",
    "    courses_collection = db['courses_test_2']\n",
    "    user_courses = courses_collection.find_one({\"clerk_id\": clerk_id})\n",
    "\n",
    "    new_courses = []\n",
    "    if user_courses:\n",
    "        for course in user_courses['courses']:\n",
    "            \n",
    "            new_course = {\n",
    "                \"course_name\": course['course_name'],\n",
    "                \"description\": course['description'],\n",
    "                \"exam_date\": course['exam_date'],\n",
    "                \"concepts\": [\n",
    "                    {\n",
    "                        \"concept_name\": f\"{course['course_name']} First Concept\",\n",
    "                        \"concept_description\": course['description'],\n",
    "                        \"flashcards\": course['flashcards'],\n",
    "                        \"review_dates\": course['review_dates'],\n",
    "                        \"multiple_choice_questions\": course[mc_index_name],\n",
    "                        \"notes\": course['notes']\n",
    "                    }\n",
    "                ],\n",
    "                \"course_schedule\": course['course_schedule'],\n",
    "                \"created_at\": course['created_at'],\n",
    "                \"updated_at\": course['updated_at'],\n",
    "                \"push_notifications\": False\n",
    "\n",
    "            }\n",
    "            new_courses.append(new_course)\n",
    "    courses_collection.update_one({\"clerk_id\": clerk_id}, {\"$set\": {\"courses\": new_courses}})\n",
    "            \n",
    "   "
   ]
  },
  {
   "cell_type": "code",
   "execution_count": 33,
   "metadata": {},
   "outputs": [
    {
     "data": {
      "text/plain": [
       "'clerk_id_1'"
      ]
     },
     "execution_count": 33,
     "metadata": {},
     "output_type": "execute_result"
    }
   ],
   "source": [
    "\n",
    "courses_collection.create_index([(\"clerk_id\", 1)])\n"
   ]
  },
  {
   "cell_type": "code",
   "execution_count": 36,
   "metadata": {},
   "outputs": [],
   "source": [
    "def get_all_clerk_ids():\n",
    "    mongo_uri = os.getenv('MONGO_URI')\n",
    "    client = MongoClient(mongo_uri)\n",
    "    db = client['VeidaAI']\n",
    "    courses_collection = db['courses_test_2']\n",
    "    clerk_ids = courses_collection.distinct(\"clerk_id\")\n",
    "    return clerk_ids\n",
    "\n",
    "\n"
   ]
  },
  {
   "cell_type": "code",
   "execution_count": 37,
   "metadata": {},
   "outputs": [
    {
     "name": "stdout",
     "output_type": "stream",
     "text": [
      "31\n"
     ]
    }
   ],
   "source": [
    "clerk_ids = get_all_clerk_ids()\n",
    "\n",
    "print(len(clerk_ids))\n"
   ]
  },
  {
   "cell_type": "code",
   "execution_count": 38,
   "metadata": {},
   "outputs": [
    {
     "name": "stdout",
     "output_type": "stream",
     "text": [
      "Error reformatting courses for clerk_id user_2kz1Pc7yu8326WFF76rQrBFeozg: 'multiple_choice_questions'\n",
      "Error reformatting courses for clerk_id user_2l8gIEjbzc1anLTLheDsEEYvprF: 'multiple_choice_questions'\n"
     ]
    }
   ],
   "source": [
    "error_clerk_ids = []\n",
    "for clerk_id in clerk_ids:\n",
    "    try:\n",
    "        reformat_courses_collection_user(clerk_id)\n",
    "    except Exception as e:\n",
    "        print(f\"Error reformatting courses for clerk_id {clerk_id}: {e}\")\n",
    "        error_clerk_ids.append(clerk_id)\n"
   ]
  },
  {
   "cell_type": "code",
   "execution_count": 41,
   "metadata": {},
   "outputs": [
    {
     "name": "stdout",
     "output_type": "stream",
     "text": [
      "['user_2kz1Pc7yu8326WFF76rQrBFeozg', 'user_2l8gIEjbzc1anLTLheDsEEYvprF']\n"
     ]
    }
   ],
   "source": [
    "mc_index_name = \"mc_questions\"\n",
    "print(error_clerk_ids)\n",
    "for clerk_id in error_clerk_ids:\n",
    "    reformat_courses_collection_user(clerk_id,mc_index_name)"
   ]
  }
 ],
 "metadata": {
  "kernelspec": {
   "display_name": "veida",
   "language": "python",
   "name": "python3"
  },
  "language_info": {
   "codemirror_mode": {
    "name": "ipython",
    "version": 3
   },
   "file_extension": ".py",
   "mimetype": "text/x-python",
   "name": "python",
   "nbconvert_exporter": "python",
   "pygments_lexer": "ipython3",
   "version": "3.8.19"
  }
 },
 "nbformat": 4,
 "nbformat_minor": 2
}
